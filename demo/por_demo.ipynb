{
 "cells": [
  {
   "cell_type": "code",
   "execution_count": null,
   "metadata": {
    "collapsed": true
   },
   "outputs": [],
   "source": [
    "from PIL import Image\n",
    "import numpy as np\n",
    "from deepclo.algorithms.algorithm_por import AlgorithmPOR, \\\n",
    "    rank_image_blocks as rib, sort_image_blocks\n",
    "from deepclo.core.measures.measure_functions import map_measure_function, \\\n",
    "    Measure, Ordering\n",
    "from deepclo.pipe.dataset import Dataset\n",
    "\n",
    "dataset = Dataset(dataset_name='cifar10')\n",
    "dataset.unravel()\n",
    "    # sample = dataset.x_train[0]\n",
    "label = dataset.y_train[0]\n",
    "sample = Image.open('cu.jpg')\n",
    "sample = sample.resize((1024, 1024))\n",
    "sample = np.asarray(sample)\n",
    "block_shape = (256, 256)\n",
    "patchifier = AlgorithmPOR(sample=sample, label=label, block_shape=block_shape)\n"
   ]
  }
 ],
 "metadata": {
  "kernelspec": {
   "display_name": "Python 3",
   "language": "python",
   "name": "python3"
  },
  "language_info": {
   "codemirror_mode": {
    "name": "ipython",
    "version": 2
   },
   "file_extension": ".py",
   "mimetype": "text/x-python",
   "name": "python",
   "nbconvert_exporter": "python",
   "pygments_lexer": "ipython2",
   "version": "2.7.6"
  }
 },
 "nbformat": 4,
 "nbformat_minor": 0
}